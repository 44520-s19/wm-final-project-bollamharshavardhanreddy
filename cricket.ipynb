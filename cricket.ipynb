{
 "cells": [
  {
   "cell_type": "code",
   "execution_count": 2,
   "metadata": {},
   "outputs": [],
   "source": [
    "import urllib.request\n",
    "from bs4 import BeautifulSoup\n",
    "import csv"
   ]
  },
  {
   "cell_type": "code",
   "execution_count": 3,
   "metadata": {},
   "outputs": [
    {
     "name": "stdout",
     "output_type": "stream",
     "text": [
      "['Year', 'Mat', 'Inns', 'NO', '100s', '50s', '0s', 'HS', 'Runs', 'Avg', 'S/R', 'Ca', 'St']\n",
      "['2008', '5', '5', '0', '0', '1', '0', '54', '159', '31.80', '66.53', '3', '0']\n",
      "['2009', '10', '8', '2', '1', '2', '0', '107', '325', '54.17', '84.42', '4', '0']\n",
      "['2010', '25', '24', '3', '3', '7', '3', '118', '995', '47.38', '85.12', '9', '0']\n",
      "['2011', '34', '34', '5', '4', '8', '2', '117', '1381', '47.62', '85.56', '19', '0']\n",
      "['2012', '17', '17', '2', '5', '3', '1', '183', '1026', '68.40', '93.78', '14', '0']\n",
      "['2013', '34', '30', '6', '4', '7', '3', '115*', '1268', '52.83', '97.54', '11', '0']\n",
      "['2014', '21', '20', '2', '4', '5', '1', '139*', '1054', '58.56', '99.62', '8', '0']\n",
      "['2015', '20', '20', '3', '2', '1', '0', '138', '623', '36.65', '80.60', '11', '0']\n",
      "['2016', '10', '10', '2', '3', '4', '0', '154*', '739', '92.38', '100.00', '6', '0']\n",
      "['2017', '26', '26', '7', '6', '7', '2', '131', '1460', '76.84', '99.12', '9', '0']\n",
      "['2018', '14', '14', '5', '6', '3', '0', '160*', '1202', '133.56', '102.56', '9', '0']\n",
      "['2019', '17', '17', '0', '3', '6', '0', '123', '993', '58.41', '95.02', '11', '0']\n",
      "['Overall (12)', '233', '225', '37', '41', '54', '12', '183', '11225', '59.71', '93.07', '114', '0']\n"
     ]
    }
   ],
   "source": [
    "f=open('dataoutput1.csv','w', newline='')\n",
    "writer=csv.writer(f)\n",
    "soup = BeautifulSoup(urllib.request.urlopen(\"http://www.howstat.com/cricket/Statistics/Players/PlayerYears_ODI.asp?PlayerID=3600\").read(),'lxml')\n",
    "\n",
    "tbody = soup('table',{\"class\":\"TableLined\"}) [0].find_all('tr')\n",
    "\n",
    "for row in tbody:\n",
    "    cols=row.findChildren(recursive=False)\n",
    "    cols=[ele.text.strip() for ele in cols]\n",
    "    writer.writerow(cols)\n",
    "    print(cols)"
   ]
  },
  {
   "cell_type": "code",
   "execution_count": 4,
   "metadata": {},
   "outputs": [],
   "source": [
    "import numpy as np  \n",
    "import pandas as pd\n",
    "\n",
    "%matplotlib inline\n",
    "import matplotlib.pyplot as plt  "
   ]
  },
  {
   "cell_type": "code",
   "execution_count": 6,
   "metadata": {},
   "outputs": [],
   "source": [
    "cricket_data = pd.read_csv(r\"C:\\Users\\s534624\\Desktop\\Pro\\Cricket_Project\\cricket.csv\")  "
   ]
  },
  {
   "cell_type": "code",
   "execution_count": 7,
   "metadata": {},
   "outputs": [
    {
     "data": {
      "text/html": [
       "<div>\n",
       "<style scoped>\n",
       "    .dataframe tbody tr th:only-of-type {\n",
       "        vertical-align: middle;\n",
       "    }\n",
       "\n",
       "    .dataframe tbody tr th {\n",
       "        vertical-align: top;\n",
       "    }\n",
       "\n",
       "    .dataframe thead th {\n",
       "        text-align: right;\n",
       "    }\n",
       "</style>\n",
       "<table border=\"1\" class=\"dataframe\">\n",
       "  <thead>\n",
       "    <tr style=\"text-align: right;\">\n",
       "      <th></th>\n",
       "      <th>Year</th>\n",
       "      <th>Mat</th>\n",
       "      <th>Inns</th>\n",
       "      <th>NO</th>\n",
       "      <th>100s</th>\n",
       "      <th>50s</th>\n",
       "      <th>0s</th>\n",
       "      <th>HS</th>\n",
       "      <th>Runs</th>\n",
       "      <th>Avg</th>\n",
       "      <th>S/R</th>\n",
       "      <th>Ca</th>\n",
       "      <th>St</th>\n",
       "    </tr>\n",
       "  </thead>\n",
       "  <tbody>\n",
       "    <tr>\n",
       "      <th>0</th>\n",
       "      <td>2008</td>\n",
       "      <td>5</td>\n",
       "      <td>5</td>\n",
       "      <td>0</td>\n",
       "      <td>0</td>\n",
       "      <td>1</td>\n",
       "      <td>0</td>\n",
       "      <td>54</td>\n",
       "      <td>159</td>\n",
       "      <td>31.80</td>\n",
       "      <td>66.53</td>\n",
       "      <td>3</td>\n",
       "      <td>0</td>\n",
       "    </tr>\n",
       "    <tr>\n",
       "      <th>1</th>\n",
       "      <td>2009</td>\n",
       "      <td>10</td>\n",
       "      <td>8</td>\n",
       "      <td>2</td>\n",
       "      <td>1</td>\n",
       "      <td>2</td>\n",
       "      <td>0</td>\n",
       "      <td>107</td>\n",
       "      <td>325</td>\n",
       "      <td>54.17</td>\n",
       "      <td>84.42</td>\n",
       "      <td>4</td>\n",
       "      <td>0</td>\n",
       "    </tr>\n",
       "    <tr>\n",
       "      <th>2</th>\n",
       "      <td>2010</td>\n",
       "      <td>25</td>\n",
       "      <td>24</td>\n",
       "      <td>3</td>\n",
       "      <td>3</td>\n",
       "      <td>7</td>\n",
       "      <td>3</td>\n",
       "      <td>118</td>\n",
       "      <td>995</td>\n",
       "      <td>47.38</td>\n",
       "      <td>85.12</td>\n",
       "      <td>9</td>\n",
       "      <td>0</td>\n",
       "    </tr>\n",
       "    <tr>\n",
       "      <th>3</th>\n",
       "      <td>2011</td>\n",
       "      <td>34</td>\n",
       "      <td>34</td>\n",
       "      <td>5</td>\n",
       "      <td>4</td>\n",
       "      <td>8</td>\n",
       "      <td>2</td>\n",
       "      <td>117</td>\n",
       "      <td>1381</td>\n",
       "      <td>47.62</td>\n",
       "      <td>85.56</td>\n",
       "      <td>19</td>\n",
       "      <td>0</td>\n",
       "    </tr>\n",
       "    <tr>\n",
       "      <th>4</th>\n",
       "      <td>2012</td>\n",
       "      <td>17</td>\n",
       "      <td>17</td>\n",
       "      <td>2</td>\n",
       "      <td>5</td>\n",
       "      <td>3</td>\n",
       "      <td>1</td>\n",
       "      <td>183</td>\n",
       "      <td>1026</td>\n",
       "      <td>68.40</td>\n",
       "      <td>93.78</td>\n",
       "      <td>14</td>\n",
       "      <td>0</td>\n",
       "    </tr>\n",
       "    <tr>\n",
       "      <th>5</th>\n",
       "      <td>2013</td>\n",
       "      <td>34</td>\n",
       "      <td>30</td>\n",
       "      <td>6</td>\n",
       "      <td>4</td>\n",
       "      <td>7</td>\n",
       "      <td>3</td>\n",
       "      <td>115*</td>\n",
       "      <td>1268</td>\n",
       "      <td>52.83</td>\n",
       "      <td>97.54</td>\n",
       "      <td>11</td>\n",
       "      <td>0</td>\n",
       "    </tr>\n",
       "    <tr>\n",
       "      <th>6</th>\n",
       "      <td>2014</td>\n",
       "      <td>21</td>\n",
       "      <td>20</td>\n",
       "      <td>2</td>\n",
       "      <td>4</td>\n",
       "      <td>5</td>\n",
       "      <td>1</td>\n",
       "      <td>139*</td>\n",
       "      <td>1054</td>\n",
       "      <td>58.56</td>\n",
       "      <td>99.62</td>\n",
       "      <td>8</td>\n",
       "      <td>0</td>\n",
       "    </tr>\n",
       "    <tr>\n",
       "      <th>7</th>\n",
       "      <td>2015</td>\n",
       "      <td>20</td>\n",
       "      <td>20</td>\n",
       "      <td>3</td>\n",
       "      <td>2</td>\n",
       "      <td>1</td>\n",
       "      <td>0</td>\n",
       "      <td>138</td>\n",
       "      <td>623</td>\n",
       "      <td>36.65</td>\n",
       "      <td>80.60</td>\n",
       "      <td>11</td>\n",
       "      <td>0</td>\n",
       "    </tr>\n",
       "    <tr>\n",
       "      <th>8</th>\n",
       "      <td>2016</td>\n",
       "      <td>10</td>\n",
       "      <td>10</td>\n",
       "      <td>2</td>\n",
       "      <td>3</td>\n",
       "      <td>4</td>\n",
       "      <td>0</td>\n",
       "      <td>154*</td>\n",
       "      <td>739</td>\n",
       "      <td>92.38</td>\n",
       "      <td>100.00</td>\n",
       "      <td>6</td>\n",
       "      <td>0</td>\n",
       "    </tr>\n",
       "    <tr>\n",
       "      <th>9</th>\n",
       "      <td>2017</td>\n",
       "      <td>26</td>\n",
       "      <td>26</td>\n",
       "      <td>7</td>\n",
       "      <td>6</td>\n",
       "      <td>7</td>\n",
       "      <td>2</td>\n",
       "      <td>131</td>\n",
       "      <td>1460</td>\n",
       "      <td>76.84</td>\n",
       "      <td>99.12</td>\n",
       "      <td>9</td>\n",
       "      <td>0</td>\n",
       "    </tr>\n",
       "    <tr>\n",
       "      <th>10</th>\n",
       "      <td>2018</td>\n",
       "      <td>14</td>\n",
       "      <td>14</td>\n",
       "      <td>5</td>\n",
       "      <td>6</td>\n",
       "      <td>3</td>\n",
       "      <td>0</td>\n",
       "      <td>160*</td>\n",
       "      <td>1202</td>\n",
       "      <td>133.56</td>\n",
       "      <td>102.56</td>\n",
       "      <td>9</td>\n",
       "      <td>0</td>\n",
       "    </tr>\n",
       "    <tr>\n",
       "      <th>11</th>\n",
       "      <td>2019</td>\n",
       "      <td>17</td>\n",
       "      <td>17</td>\n",
       "      <td>0</td>\n",
       "      <td>3</td>\n",
       "      <td>6</td>\n",
       "      <td>0</td>\n",
       "      <td>123</td>\n",
       "      <td>993</td>\n",
       "      <td>58.41</td>\n",
       "      <td>95.02</td>\n",
       "      <td>11</td>\n",
       "      <td>0</td>\n",
       "    </tr>\n",
       "  </tbody>\n",
       "</table>\n",
       "</div>"
      ],
      "text/plain": [
       "    Year  Mat  Inns  NO  100s  50s  0s    HS  Runs     Avg     S/R  Ca  St\n",
       "0   2008    5     5   0     0    1   0    54   159   31.80   66.53   3   0\n",
       "1   2009   10     8   2     1    2   0   107   325   54.17   84.42   4   0\n",
       "2   2010   25    24   3     3    7   3   118   995   47.38   85.12   9   0\n",
       "3   2011   34    34   5     4    8   2   117  1381   47.62   85.56  19   0\n",
       "4   2012   17    17   2     5    3   1   183  1026   68.40   93.78  14   0\n",
       "5   2013   34    30   6     4    7   3  115*  1268   52.83   97.54  11   0\n",
       "6   2014   21    20   2     4    5   1  139*  1054   58.56   99.62   8   0\n",
       "7   2015   20    20   3     2    1   0   138   623   36.65   80.60  11   0\n",
       "8   2016   10    10   2     3    4   0  154*   739   92.38  100.00   6   0\n",
       "9   2017   26    26   7     6    7   2   131  1460   76.84   99.12   9   0\n",
       "10  2018   14    14   5     6    3   0  160*  1202  133.56  102.56   9   0\n",
       "11  2019   17    17   0     3    6   0   123   993   58.41   95.02  11   0"
      ]
     },
     "execution_count": 7,
     "metadata": {},
     "output_type": "execute_result"
    }
   ],
   "source": [
    "cricket_data.head(12) "
   ]
  },
  {
   "cell_type": "code",
   "execution_count": 8,
   "metadata": {},
   "outputs": [
    {
     "name": "stderr",
     "output_type": "stream",
     "text": [
      "C:\\Users\\s534624\\AppData\\Local\\Continuum\\anaconda3\\lib\\site-packages\\matplotlib\\cbook\\__init__.py:424: MatplotlibDeprecationWarning: \n",
      "Passing one of 'on', 'true', 'off', 'false' as a boolean is deprecated; use an actual boolean (True/False) instead.\n",
      "  warn_deprecated(\"2.2\", \"Passing one of 'on', 'true', 'off', 'false' as a \"\n"
     ]
    },
    {
     "data": {
      "image/png": "[encoded data removed]",
      "text/plain": [
       "<Figure size 576x432 with 1 Axes>"
      ]
     },
     "metadata": {
      "needs_background": "light"
     },
     "output_type": "display_data"
    }
   ],
   "source": [
    "cricket_data.head(12).plot.bar(x='Year', y='Runs', figsize=(8,6), color='Blue',grid='false',title='Total Runs based on Year-wise') \n",
    "plt.savefig('figure_2.png', Transparent='True')"
   ]
  },
  {
   "cell_type": "code",
   "execution_count": 9,
   "metadata": {},
   "outputs": [
    {
     "data": {
      "image/png": "[encoded data removed]",
      "text/plain": [
       "<Figure size 432x288 with 1 Axes>"
      ]
     },
     "metadata": {
      "needs_background": "light"
     },
     "output_type": "display_data"
    }
   ],
   "source": [
    "cricket_data.plot(x='Year',y=['Avg','S/R'],kind='line', use_index='True', title='Graph for Average & StrikeRate Year-wise', color=['Red','Blue'],grid='false')\n",
    "plt.savefig('figure.png', dpi=300)"
   ]
  },
  {
   "cell_type": "markdown",
   "metadata": {},
   "source": [
    "### Conclusion: \n",
    "#### I hereby conclude that, I learnt the basics of web scraping. Here in this project, I did the anaylsis of a cricketer \"Virat Kohli\" of his batting career based on the yearwise. Based on the results, his average runs was gradually increasing. "
   ]
  },
  {
   "cell_type": "code",
   "execution_count": null,
   "metadata": {},
   "outputs": [],
   "source": []
  }
 ],
 "metadata": {
  "kernelspec": {
   "display_name": "Python 3",
   "language": "python",
   "name": "python3"
  },
  "language_info": {
   "codemirror_mode": {
    "name": "ipython",
    "version": 3
   },
   "file_extension": ".py",
   "mimetype": "text/x-python",
   "name": "python",
   "nbconvert_exporter": "python",
   "pygments_lexer": "ipython3",
   "version": "3.7.3"
  }
 },
 "nbformat": 4,
 "nbformat_minor": 2
}
